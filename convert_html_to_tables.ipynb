{
 "metadata": {
  "language_info": {
   "codemirror_mode": {
    "name": "ipython",
    "version": 3
   },
   "file_extension": ".py",
   "mimetype": "text/x-python",
   "name": "python",
   "nbconvert_exporter": "python",
   "pygments_lexer": "ipython3",
   "version": "3.9.1-final"
  },
  "orig_nbformat": 2,
  "kernelspec": {
   "name": "python3",
   "display_name": "Python 3",
   "language": "python"
  }
 },
 "nbformat": 4,
 "nbformat_minor": 2,
 "cells": [
  {
   "cell_type": "code",
   "execution_count": 1,
   "metadata": {},
   "outputs": [],
   "source": [
    "from os import path\n",
    "from shutil import unpack_archive\n",
    "from urllib.request import urlretrieve\n",
    "\n",
    "import geopandas as gpd\n",
    "import pandas as pd\n",
    "\n",
    "from clean import amalgamate_postal_districts\n",
    "from link import link_counties_and_postal_districts_to_postcode_boundaries\n",
    "from link import link_counties_to_postcode_boundaries"
   ]
  },
  {
   "source": [
    "# Get Dublin Postcode Boundaries"
   ],
   "cell_type": "markdown",
   "metadata": {}
  },
  {
   "cell_type": "code",
   "execution_count": 2,
   "metadata": {},
   "outputs": [],
   "source": [
    "if not path.exists(\"data/dublin_postcode_boundaries\"):\n",
    "    urlretrieve(\n",
    "        url=\"https://zenodo.org/record/4327005/files/dublin_postcode_boundaries.zip\",\n",
    "        filename=\"data/dublin_postcode_boundaries.zip\"\n",
    "    )\n",
    "    unpack_archive(\"data/dublin_postcode_boundaries.zip\")\n",
    "    \n",
    "dublin_postcode_boundaries = gpd.read_file(\"dublin_postcode_boundaries\").pipe(amalgamate_postal_districts)"
   ]
  },
  {
   "source": [
    "# Convert HTML to a list of pandas.DataFrame"
   ],
   "cell_type": "markdown",
   "metadata": {}
  },
  {
   "cell_type": "code",
   "execution_count": 3,
   "metadata": {},
   "outputs": [],
   "source": [
    "raw_gas_tables = pd.read_html(\"https://www.cso.ie/en/releasesandpublications/er/ngc/networkedgasconsumption2019/\")"
   ]
  },
  {
   "source": [
    "# Link Residential (resi) total annual gas demand to Postcode Boundaries"
   ],
   "cell_type": "markdown",
   "metadata": {}
  },
  {
   "cell_type": "code",
   "execution_count": 4,
   "metadata": {},
   "outputs": [],
   "source": [
    "resi_total_annual_gas_by_postcodes = link_counties_and_postal_districts_to_postcode_boundaries(\n",
    "    raw_gas_tables=raw_gas_tables,\n",
    "    dublin_postcode_boundaries=dublin_postcode_boundaries,\n",
    "    postal_district_table_index=11,\n",
    "    county_table_index=9,\n",
    ")"
   ]
  },
  {
   "cell_type": "code",
   "execution_count": 6,
   "metadata": {},
   "outputs": [],
   "source": [
    "resi_total_annual_gas_by_postcodes.to_file(\n",
    "    \"data/resi_total_annual_gas_by_postcodes.geojson\",\n",
    "    driver=\"GeoJSON\",\n",
    ")"
   ]
  },
  {
   "source": [
    "# Link Non-residential (non_resi) total annual gas demand to Postcode Boundaries"
   ],
   "cell_type": "markdown",
   "metadata": {}
  },
  {
   "cell_type": "code",
   "execution_count": 7,
   "metadata": {},
   "outputs": [],
   "source": [
    "non_resi_total_annual_gas_by_postcodes = link_counties_and_postal_districts_to_postcode_boundaries(\n",
    "    raw_gas_tables=raw_gas_tables,\n",
    "    dublin_postcode_boundaries=dublin_postcode_boundaries,\n",
    "    postal_district_table_index=10,\n",
    "    county_table_index=8,\n",
    ")"
   ]
  },
  {
   "cell_type": "code",
   "execution_count": 8,
   "metadata": {},
   "outputs": [],
   "source": [
    "non_resi_total_annual_gas_by_postcodes.to_file(\n",
    "    \"data/non_resi_total_annual_gas_by_postcodes.geojson\",\n",
    "    driver=\"GeoJSON\",\n",
    ")"
   ]
  },
  {
   "source": [
    "# Link Residential (resi) median annual gas demand to Postcode Boundaries"
   ],
   "cell_type": "markdown",
   "metadata": {}
  },
  {
   "cell_type": "code",
   "execution_count": 17,
   "metadata": {},
   "outputs": [],
   "source": [
    "resi_median_annual_gas_by_postcodes = link_counties_and_postal_districts_to_postcode_boundaries(\n",
    "    raw_gas_tables=raw_gas_tables,\n",
    "    dublin_postcode_boundaries=dublin_postcode_boundaries,\n",
    "    postal_district_table_index=14,\n",
    "    county_table_index=13,\n",
    ")"
   ]
  },
  {
   "cell_type": "code",
   "execution_count": 19,
   "metadata": {},
   "outputs": [],
   "source": [
    "resi_median_annual_gas_by_postcodes.to_file(\n",
    "    \"data/resi_median_annual_gas_by_postcodes.geojson\",\n",
    "    driver=\"GeoJSON\"\n",
    ")"
   ]
  },
  {
   "source": [
    "# Link Residential (resi) meters to Postcode Boundaries"
   ],
   "cell_type": "markdown",
   "metadata": {}
  },
  {
   "cell_type": "code",
   "execution_count": 11,
   "metadata": {},
   "outputs": [],
   "source": [
    "resi_total_meters_by_postcodes = link_counties_and_postal_districts_to_postcode_boundaries(\n",
    "    raw_gas_tables=raw_gas_tables,\n",
    "    dublin_postcode_boundaries=dublin_postcode_boundaries,\n",
    "    postal_district_table_index=19,\n",
    "    county_table_index=18,\n",
    ")"
   ]
  },
  {
   "cell_type": "code",
   "execution_count": 12,
   "metadata": {},
   "outputs": [],
   "source": [
    "resi_total_meters_by_postcodes.to_file(\n",
    "    \"data/resi_total_meters_by_postcodes.geojson\",\n",
    "    driver=\"GeoJSON\",\n",
    ")"
   ]
  },
  {
   "source": [
    "# Link Non-residential (non_resi) meters to Postcode Boundaries"
   ],
   "cell_type": "markdown",
   "metadata": {}
  },
  {
   "cell_type": "code",
   "execution_count": 10,
   "metadata": {},
   "outputs": [],
   "source": [
    "non_resi_total_meters_by_postcodes = link_counties_to_postcode_boundaries(\n",
    "    raw_gas_tables=raw_gas_tables,\n",
    "    dublin_postcode_boundaries=dublin_postcode_boundaries,\n",
    "    county_table_index=-3,\n",
    ")"
   ]
  },
  {
   "cell_type": "code",
   "execution_count": 13,
   "metadata": {},
   "outputs": [],
   "source": [
    "non_resi_total_meters_by_postcodes.to_file(\n",
    "    \"data/non_resi_total_meters_by_postcodes.geojson\",\n",
    "    driver=\"GeoJSON\",\n",
    ")"
   ]
  }
 ]
}